{
  "nbformat": 4,
  "nbformat_minor": 0,
  "metadata": {
    "colab": {
      "provenance": [],
      "authorship_tag": "ABX9TyNZRHR7yJ9hBf6jjLb+GZY/",
      "include_colab_link": true
    },
    "kernelspec": {
      "name": "python3",
      "display_name": "Python 3"
    },
    "language_info": {
      "name": "python"
    }
  },
  "cells": [
    {
      "cell_type": "markdown",
      "metadata": {
        "id": "view-in-github",
        "colab_type": "text"
      },
      "source": [
        "<a href=\"https://colab.research.google.com/github/sc2377/python_programming/blob/main/Exercise_7_(Loops)_%EC%9D%B4%EC%84%B1%EC%B2%A0_2022189117.ipynb\" target=\"_parent\"><img src=\"https://colab.research.google.com/assets/colab-badge.svg\" alt=\"Open In Colab\"/></a>"
      ]
    },
    {
      "cell_type": "code",
      "execution_count": 3,
      "metadata": {
        "colab": {
          "base_uri": "https://localhost:8080/"
        },
        "id": "xLxmlslxKm7j",
        "outputId": "ff93824f-3090-4029-c6c7-0a485da2b405"
      },
      "outputs": [
        {
          "output_type": "execute_result",
          "data": {
            "text/plain": [
              "range(0, 5)"
            ]
          },
          "metadata": {},
          "execution_count": 3
        }
      ],
      "source": [
        "# 파이썬 프로그래밍\n",
        "# 이성철 2022189117\n",
        "\n",
        "# Exercise 7 (Loops)\n",
        "# 류호경 교수님 파트\n",
        "\n",
        "# 반복문, 컴퓨터의 가장 큰 장점, 컴퓨터는 지치지 않는다 다만 다운될 뿐이다.\n",
        "\n",
        "test=range(5)\n",
        "test"
      ]
    },
    {
      "cell_type": "code",
      "source": [
        "dates = [0,1,2,3,4,5,6,7,8,9,0] # 0~10\n",
        "\n",
        "N = len(dates) # 3번 0, 1, 2\n",
        "\n",
        "for i in range(N):\n",
        "    print(dates[i])\n",
        "    if (dates[i])==5:\n",
        "      break"
      ],
      "metadata": {
        "colab": {
          "base_uri": "https://localhost:8080/"
        },
        "id": "IW3BejR4K7bt",
        "outputId": "5b5201b3-81c8-4488-8111-f1dbcc510820"
      },
      "execution_count": 7,
      "outputs": [
        {
          "output_type": "stream",
          "name": "stdout",
          "text": [
            "0\n",
            "1\n",
            "2\n",
            "3\n",
            "4\n",
            "5\n"
          ]
        }
      ]
    },
    {
      "cell_type": "code",
      "source": [
        "for i in range(0, 8): \n",
        "    print(\"i is equal to\", i)"
      ],
      "metadata": {
        "colab": {
          "base_uri": "https://localhost:8080/"
        },
        "id": "1RjlowIYLzHd",
        "outputId": "47ff8d44-3536-4a95-a71c-993625fa476d"
      },
      "execution_count": 8,
      "outputs": [
        {
          "output_type": "stream",
          "name": "stdout",
          "text": [
            "i is equal to 0\n",
            "i is equal to 1\n",
            "i is equal to 2\n",
            "i is equal to 3\n",
            "i is equal to 4\n",
            "i is equal to 5\n",
            "i is equal to 6\n",
            "i is equal to 7\n"
          ]
        }
      ]
    },
    {
      "cell_type": "code",
      "source": [
        "a = \"이성철\"\n",
        "\n",
        "for year in dates:  #이것을 가장 자주 사용한다. \n",
        "    print(a)"
      ],
      "metadata": {
        "colab": {
          "base_uri": "https://localhost:8080/"
        },
        "id": "RxqE0SutMmTz",
        "outputId": "d7649a24-9293-44ff-f6a1-855a1f72d0ae"
      },
      "execution_count": 12,
      "outputs": [
        {
          "output_type": "stream",
          "name": "stdout",
          "text": [
            "이성철\n",
            "이성철\n",
            "이성철\n",
            "이성철\n",
            "이성철\n",
            "이성철\n",
            "이성철\n",
            "이성철\n",
            "이성철\n",
            "이성철\n",
            "이성철\n"
          ]
        }
      ]
    },
    {
      "cell_type": "code",
      "source": [
        "triangles = ['red', 'green', 'blue']\n",
        "\n",
        "for i in range(0, 3):\n",
        "  print(\"Before triangles \", i, 'is', triangles[i])\n",
        "else:\n",
        "  print(\"error\")"
      ],
      "metadata": {
        "colab": {
          "base_uri": "https://localhost:8080/"
        },
        "id": "KIn_3tQOMxk4",
        "outputId": "d7dc73f1-6875-4863-c125-398e2f9bb5a8"
      },
      "execution_count": 21,
      "outputs": [
        {
          "output_type": "stream",
          "name": "stdout",
          "text": [
            "Before triangles  0 is red\n",
            "Before triangles  1 is green\n",
            "Before triangles  2 is blue\n",
            "error\n"
          ]
        }
      ]
    },
    {
      "cell_type": "code",
      "source": [
        "dates = [1982, 1980, 1973, 2000]\n",
        "\n",
        "i = 0\n",
        "year = 0\n",
        "\n",
        "while(year != 2000):\n",
        "    year = dates[i] #1982, 1980, 1973, 2000  \n",
        "    i = i + 1 #i =1, 2, 3, 4 \n",
        "    print(year) #1982, 1980, 1973, 2000  \n",
        "\n",
        "print(\"It took \", i ,\"repetitions to get out of loop.\")"
      ],
      "metadata": {
        "colab": {
          "base_uri": "https://localhost:8080/"
        },
        "id": "PUtl7ZLZNZ03",
        "outputId": "3aa19f57-f389-4f74-d586-78afa38761bc"
      },
      "execution_count": 22,
      "outputs": [
        {
          "output_type": "stream",
          "name": "stdout",
          "text": [
            "1982\n",
            "1980\n",
            "1973\n",
            "2000\n",
            "It took  4 repetitions to get out of loop.\n"
          ]
        }
      ]
    },
    {
      "cell_type": "code",
      "source": [
        "# Quiz\n",
        "\n",
        "for i in range(-5, 6):\n",
        "    print(i)"
      ],
      "metadata": {
        "colab": {
          "base_uri": "https://localhost:8080/"
        },
        "id": "zT2u7razOCFy",
        "outputId": "9ad9f49b-e3d1-40a2-ab5a-10e6cdb545e1"
      },
      "execution_count": 31,
      "outputs": [
        {
          "output_type": "stream",
          "name": "stdout",
          "text": [
            "-5\n",
            "-4\n",
            "-3\n",
            "-2\n",
            "-1\n",
            "0\n",
            "1\n",
            "2\n",
            "3\n",
            "4\n",
            "5\n"
          ]
        }
      ]
    },
    {
      "cell_type": "code",
      "source": [
        "Genres = ['rock', 'R&B', 'Soundtrack', 'R&B', 'soul', 'pop']\n",
        "\n",
        "i=0\n",
        "\n",
        "for Genre in Genres:\n",
        "    print(Genre)\n",
        "    print(i)\n",
        "    i=i+1"
      ],
      "metadata": {
        "colab": {
          "base_uri": "https://localhost:8080/"
        },
        "id": "NlXuzZ5QORbA",
        "outputId": "1c610a91-73ac-4272-abdf-0ceb6f8ff0bf"
      },
      "execution_count": 53,
      "outputs": [
        {
          "output_type": "stream",
          "name": "stdout",
          "text": [
            "rock\n",
            "0\n",
            "R&B\n",
            "1\n",
            "Soundtrack\n",
            "2\n",
            "R&B\n",
            "3\n",
            "soul\n",
            "4\n",
            "pop\n",
            "5\n"
          ]
        }
      ]
    },
    {
      "cell_type": "code",
      "source": [
        "squares=['red', 'yellow', 'green', 'purple', 'blue']\n",
        "\n",
        "for square in squares:\n",
        "    print(square)"
      ],
      "metadata": {
        "colab": {
          "base_uri": "https://localhost:8080/"
        },
        "id": "TGk0dfjjOnN0",
        "outputId": "76b00ca1-27fc-41d0-e6c7-f6126471ab82"
      },
      "execution_count": 59,
      "outputs": [
        {
          "output_type": "stream",
          "name": "stdout",
          "text": [
            "red\n",
            "yellow\n",
            "green\n",
            "purple\n",
            "blue\n"
          ]
        }
      ]
    },
    {
      "cell_type": "code",
      "source": [
        "PlayListRatings = [10, 9.5, 10, 8, 7.5, 5, 10, 10]\n",
        "i = 1\n",
        "Rating = PlayListRatings[2]\n",
        "while(Rating >= 6):\n",
        "    print(Rating)\n",
        "    Rating = PlayListRatings[i]\n",
        "    i = i + 1"
      ],
      "metadata": {
        "colab": {
          "base_uri": "https://localhost:8080/"
        },
        "id": "X-_k-F1dPNQg",
        "outputId": "f1a5eaa4-c7ab-4380-c5f5-02094c2b655a"
      },
      "execution_count": 67,
      "outputs": [
        {
          "output_type": "stream",
          "name": "stdout",
          "text": [
            "10\n",
            "9.5\n",
            "10\n",
            "8\n",
            "7.5\n"
          ]
        }
      ]
    },
    {
      "cell_type": "code",
      "source": [
        "squares = ['orange', 'orange', 'purple', 'blue ', 'orange']\n",
        "new_squares = []\n",
        "i = 0\n",
        "while(squares[i] == 'orange'):\n",
        "    new_squares.append(squares[i])\n",
        "    i = i + 1\n",
        "print (new_squares)"
      ],
      "metadata": {
        "colab": {
          "base_uri": "https://localhost:8080/"
        },
        "id": "d-SRXxNgPxB8",
        "outputId": "d7da158e-732a-4eb6-c2cf-deee2e372ff5"
      },
      "execution_count": 69,
      "outputs": [
        {
          "output_type": "stream",
          "name": "stdout",
          "text": [
            "['orange', 'orange']\n"
          ]
        }
      ]
    },
    {
      "cell_type": "code",
      "source": [],
      "metadata": {
        "id": "Pk50vBXpQa7r"
      },
      "execution_count": null,
      "outputs": []
    }
  ]
}