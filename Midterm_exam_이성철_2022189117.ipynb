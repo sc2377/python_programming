{
  "nbformat": 4,
  "nbformat_minor": 0,
  "metadata": {
    "colab": {
      "provenance": [],
      "authorship_tag": "ABX9TyNpPAbInCZabBx2Nnb2lFT2",
      "include_colab_link": true
    },
    "kernelspec": {
      "name": "python3",
      "display_name": "Python 3"
    },
    "language_info": {
      "name": "python"
    }
  },
  "cells": [
    {
      "cell_type": "markdown",
      "metadata": {
        "id": "view-in-github",
        "colab_type": "text"
      },
      "source": [
        "<a href=\"https://colab.research.google.com/github/sc2377/python_programming/blob/main/Midterm_exam_%EC%9D%B4%EC%84%B1%EC%B2%A0_2022189117.ipynb\" target=\"_parent\"><img src=\"https://colab.research.google.com/assets/colab-badge.svg\" alt=\"Open In Colab\"/></a>"
      ]
    },
    {
      "cell_type": "code",
      "execution_count": null,
      "metadata": {
        "id": "SIt6A7H0bKkM"
      },
      "outputs": [],
      "source": [
        "# 파이썬 프로그래밍\n",
        "# 이성철 2022189117\n",
        "\n",
        "# Midterm exam\n",
        "# 류호경 교수님 파트"
      ]
    },
    {
      "cell_type": "code",
      "source": [
        "# 1. 키와 몸무게를 입력하면 BMI를 계산하는 프로그램 작성 (반복문을 사용해서 계속 몸무게/키 입력, 종료는 -1000 입력)\n",
        "\n",
        "while True:\n",
        "  weight = float(input(\"몸무게(kg) 입력 \")) # 몸무게 입력받기\n",
        "  \n",
        "  if weight == -1000:\n",
        "    print(\"-1000 입력 시 종료\")\n",
        "    break\n",
        "    \n",
        "  height = float(input(\"키(cm) 입력 \")) # 키 입력받기\n",
        "  \n",
        "  if height == -1000:\n",
        "    print(\"-1000 입력 시 종료\")\n",
        "    break\n",
        "\n",
        "  bmi = weight / ( ( height / 100 ) * ( height / 100 ) ) # bmi = 몸무게(kg) / 키(m)^2\n",
        "\n",
        "  print(\"\")\n",
        "  print(\"---------- 결과 ----------\")\n",
        "  print(\"몸무게 =\",weight,\"kg\")\n",
        "  print(\"키 =\",height,\"cm\")\n",
        "  print(\"BMI =\",round(bmi,2))\n",
        "  print(\"--- -1000 입력 시 종료 ---\")\n",
        "  print(\"\")"
      ],
      "metadata": {
        "colab": {
          "base_uri": "https://localhost:8080/"
        },
        "id": "xiCPaPkocMwp",
        "outputId": "685b7aaf-4c1f-403e-f6f4-7913fa887acc"
      },
      "execution_count": 140,
      "outputs": [
        {
          "output_type": "stream",
          "name": "stdout",
          "text": [
            "몸무게(kg) 입력 70\n",
            "키(cm) 입력 177\n",
            "\n",
            "---------- 결과 ----------\n",
            "몸무게 = 70.0 kg\n",
            "키 = 177.0 cm\n",
            "BMI = 22.34\n",
            "--- -1000 입력 시 종료 ---\n",
            "\n",
            "몸무게(kg) 입력 70.5\n",
            "키(cm) 입력 177.5\n",
            "\n",
            "---------- 결과 ----------\n",
            "몸무게 = 70.5 kg\n",
            "키 = 177.5 cm\n",
            "BMI = 22.38\n",
            "--- -1000 입력 시 종료 ---\n",
            "\n",
            "몸무게(kg) 입력 2000\n",
            "키(cm) 입력 3000\n",
            "\n",
            "---------- 결과 ----------\n",
            "몸무게 = 2000.0 kg\n",
            "키 = 3000.0 cm\n",
            "BMI = 2.22\n",
            "--- -1000 입력 시 종료 ---\n",
            "\n",
            "몸무게(kg) 입력 52\n",
            "키(cm) 입력 172\n",
            "\n",
            "---------- 결과 ----------\n",
            "몸무게 = 52.0 kg\n",
            "키 = 172.0 cm\n",
            "BMI = 17.58\n",
            "--- -1000 입력 시 종료 ---\n",
            "\n",
            "몸무게(kg) 입력 -1000\n",
            "-1000 입력 시 종료\n"
          ]
        }
      ]
    },
    {
      "cell_type": "code",
      "source": [
        "# 2. 숫자 2개를 입력받아서 큰 수와 작은 수를 차례대로 출력 (반복문을 사용해서 계속 숫자 입력받음. 종료는 0을 두번 입력)\n",
        "\n",
        "while True:\n",
        "  num1 = float(input(\"숫자1 \")) # 숫자1 입력받기\n",
        "  num2 = float(input(\"숫자2 \")) # 숫자2 입력받기\n",
        "  \n",
        "  if num1 == 0 and num2 == 0:\n",
        "    print(\"모두 0이면 종료\")\n",
        "    break\n",
        "    \n",
        "  if num1 > num2:\n",
        "    print(\"\")\n",
        "    print(\"--------------\")\n",
        "    print(\"큰 수 =\",num1)\n",
        "    print(\"작은 수 =\",num2)\n",
        "    print(\"--------------\")\n",
        "    print(\"\")\n",
        "    \n",
        "  else:\n",
        "    print(\"\")\n",
        "    print(\"--------------\")\n",
        "    print(\"큰 수 =\",num2)\n",
        "    print(\"작은 수 =\",num1)\n",
        "    print(\"--------------\")\n",
        "    print(\"\")"
      ],
      "metadata": {
        "colab": {
          "base_uri": "https://localhost:8080/"
        },
        "id": "BHNCArCbqsVW",
        "outputId": "de0ffc9a-ac05-405a-bb99-d109c13ecedf"
      },
      "execution_count": 141,
      "outputs": [
        {
          "output_type": "stream",
          "name": "stdout",
          "text": [
            "숫자1 1\n",
            "숫자2 2\n",
            "\n",
            "--------------\n",
            "큰 수 = 2.0\n",
            "작은 수 = 1.0\n",
            "--------------\n",
            "\n",
            "숫자1 1.5\n",
            "숫자2 3.7\n",
            "\n",
            "--------------\n",
            "큰 수 = 3.7\n",
            "작은 수 = 1.5\n",
            "--------------\n",
            "\n",
            "숫자1 3.7\n",
            "숫자2 1.5\n",
            "\n",
            "--------------\n",
            "큰 수 = 3.7\n",
            "작은 수 = 1.5\n",
            "--------------\n",
            "\n",
            "숫자1 0\n",
            "숫자2 0\n",
            "모두 0이면 종료\n"
          ]
        }
      ]
    },
    {
      "cell_type": "code",
      "source": [
        "# 3. 학생 10명의 이름과 점수를 입력받아 등수를 계산, 출력 시에는 이름과 점수를 등수 순서대로 출력\n",
        "\n",
        "students = [] # List 생성\n",
        "\n",
        "for i in range(10):\n",
        "  print(\"10번 반복 중\",i+1,\"번째\")\n",
        "\n",
        "  name = input(\"이름 \")\n",
        "  type(name)\n",
        "\n",
        "  if name == \"exit\":\n",
        "    print(\"Exit 입력 시 종료\")\n",
        "    break\n",
        "\n",
        "  score = float(input(\"점수 \"))\n",
        "  if score < 0:\n",
        "    print(\"점수에 음수 입력 시 종료\")\n",
        "    break\n",
        "\n",
        "  elif score > 100:\n",
        "      print(\"점수가 100보다 크면 종료\")\n",
        "      break\n",
        "\n",
        "  students.append((name,score))\n",
        "\n",
        "# 점수 기준 내림차순 정렬\n",
        "students.sort(key=lambda x: x[1], reverse=True)"
      ],
      "metadata": {
        "colab": {
          "base_uri": "https://localhost:8080/"
        },
        "id": "G-U8DGQQ0pYH",
        "outputId": "9c5dd59a-b483-421d-b63b-e9b945475cac"
      },
      "execution_count": 358,
      "outputs": [
        {
          "name": "stdout",
          "output_type": "stream",
          "text": [
            "10번 반복 중 1 번째\n",
            "이름 이성철\n",
            "점수 100\n",
            "10번 반복 중 2 번째\n",
            "이름 만점\n",
            "점수 100\n",
            "10번 반복 중 3 번째\n",
            "이름 하나틀린애\n",
            "점수 95\n",
            "10번 반복 중 4 번째\n",
            "이름 두개틀린애\n",
            "점수 90\n",
            "10번 반복 중 5 번째\n",
            "이름 공부잘하는애\n",
            "점수 95\n",
            "10번 반복 중 6 번째\n",
            "이름 공부대충한애\n",
            "점수 60\n",
            "10번 반복 중 7 번째\n",
            "이름 공부못하는애\n",
            "점수 40\n",
            "10번 반복 중 8 번째\n",
            "이름 공부대충하고잘찍은애\n",
            "점수 75\n",
            "10번 반복 중 9 번째\n",
            "이름 벼락치기한애\n",
            "점수 85\n",
            "10번 반복 중 10 번째\n",
            "이름 머리좋은애\n",
            "점수 90\n"
          ]
        }
      ]
    },
    {
      "cell_type": "code",
      "source": [
        "# 등수대로 출력, 동점처리 없음\n",
        "print(\"--- 등수대로 출력 ---\")\n",
        "print(\"--- 동점처리 없음 ---\")\n",
        "\n",
        "sum_score = 0\n",
        "\n",
        "for i in range(len(students)):\n",
        "  rank = i + 1  \n",
        "  print(rank,\"등 \",students[i])\n",
        "  sum_score = sum_score + students[i][1]\n",
        "  \n",
        "avg_score = float( sum_score / 10 )\n",
        "\n",
        "print(\"평균점수 \", avg_score)\n",
        "print(\"--- 출력 완료 ---\")"
      ],
      "metadata": {
        "colab": {
          "base_uri": "https://localhost:8080/"
        },
        "id": "2kLaQ_3fQKFn",
        "outputId": "cee7ae76-1831-4337-8254-04a0e616d0c0"
      },
      "execution_count": 361,
      "outputs": [
        {
          "output_type": "stream",
          "name": "stdout",
          "text": [
            "--- 등수대로 출력 ---\n",
            "--- 동점처리 없음 ---\n",
            "1 등  ('이성철', 100.0)\n",
            "2 등  ('만점', 100.0)\n",
            "3 등  ('하나틀린애', 95.0)\n",
            "4 등  ('공부잘하는애', 95.0)\n",
            "5 등  ('두개틀린애', 90.0)\n",
            "6 등  ('머리좋은애', 90.0)\n",
            "7 등  ('벼락치기한애', 85.0)\n",
            "8 등  ('공부대충하고잘찍은애', 75.0)\n",
            "9 등  ('공부대충한애', 60.0)\n",
            "10 등  ('공부못하는애', 40.0)\n",
            "평균점수  83.0\n",
            "--- 출력 완료 ---\n"
          ]
        }
      ]
    },
    {
      "cell_type": "code",
      "source": [
        "# 등수대로 출력, 동점처리 있음\n",
        "print(\"--- 등수대로 출력 ---\")\n",
        "print(\"--- 동점처리 추가 ---\")\n",
        "\n",
        "sum_score = 0\n",
        "\n",
        "for i in range(len(students)):\n",
        "\n",
        "  prev_score = students[i-1][1]\n",
        "\n",
        "  if students[i][1] == prev_score:\n",
        "    print(rank,\"등 \",students[i])\n",
        "\n",
        "  else:\n",
        "    rank = i + 1  \n",
        "    print(rank,\"등 \",students[i])    \n",
        "  \n",
        "  sum_score = sum_score + students[i][1]\n",
        "  \n",
        "avg_score = float( sum_score / 10 )\n",
        "\n",
        "print(\"평균점수 \", avg_score)\n",
        "print(\"--- 출력 완료 ---\")"
      ],
      "metadata": {
        "colab": {
          "base_uri": "https://localhost:8080/"
        },
        "id": "1KmdJEWoXD_O",
        "outputId": "d4cae0ac-eb23-4a42-dd67-32f5cda357bf"
      },
      "execution_count": 362,
      "outputs": [
        {
          "output_type": "stream",
          "name": "stdout",
          "text": [
            "--- 등수대로 출력 ---\n",
            "--- 동점처리 추가 ---\n",
            "1 등  ('이성철', 100.0)\n",
            "1 등  ('만점', 100.0)\n",
            "3 등  ('하나틀린애', 95.0)\n",
            "3 등  ('공부잘하는애', 95.0)\n",
            "5 등  ('두개틀린애', 90.0)\n",
            "5 등  ('머리좋은애', 90.0)\n",
            "7 등  ('벼락치기한애', 85.0)\n",
            "8 등  ('공부대충하고잘찍은애', 75.0)\n",
            "9 등  ('공부대충한애', 60.0)\n",
            "10 등  ('공부못하는애', 40.0)\n",
            "평균점수  83.0\n",
            "--- 출력 완료 ---\n"
          ]
        }
      ]
    },
    {
      "cell_type": "code",
      "source": [],
      "metadata": {
        "id": "l__k-3ueb7aa"
      },
      "execution_count": null,
      "outputs": []
    }
  ]
}