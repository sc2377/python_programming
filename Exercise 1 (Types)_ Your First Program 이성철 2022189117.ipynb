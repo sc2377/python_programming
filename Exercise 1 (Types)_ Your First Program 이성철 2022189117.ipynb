# 파이썬 프로그래밍
# 이성철 2022189117

# Exercise 1 (Types): Your First Program
# 류호경 교수님 파트

# Try your first Python output
print('Hello, Python Programming')
print("내 이름은 이성철입니다")
print("Hello, world!")
print("Hello, world!") # Print the traditional hello world

# Exercise 2 (Types): Get the object type

type(12.0) # 12.0의 데이터 타입은? 소수점이 있으므로 float

# Exercise 3 (Types): Types

type(6/2) # 나누기는 float

# //로 나누면 정수(integer)가 됨
type(6//2) # int, as the double slashes stand for integer division

# Exercise 4 (Types): Expression
# 160분이 몇시간인가? 60분으로 나누면 됨
160/60

# 160분이 몇시간인가? 60분으로 나누면 됨
160//60

# Exercise 5 (Types): Expression and Variables in Python
x = 3 + 2 * 2 # 변수 x로 계산
x

y = ( 3 + 2 ) * 2 # 변수 y로 계산
y

z = x + y # 변수 z는 x + y
z
