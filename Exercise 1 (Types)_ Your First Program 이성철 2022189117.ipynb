{
  "nbformat": 4,
  "nbformat_minor": 0,
  "metadata": {
    "colab": {
      "provenance": [],
      "authorship_tag": "ABX9TyN6AJYE3cRZIIYLT7wrO9+S",
      "include_colab_link": true
    },
    "kernelspec": {
      "name": "python3",
      "display_name": "Python 3"
    },
    "language_info": {
      "name": "python"
    }
  },
  "cells": [
    {
      "cell_type": "markdown",
      "metadata": {
        "id": "view-in-github",
        "colab_type": "text"
      },
      "source": [
        "<a href=\"https://colab.research.google.com/github/sc2377/python_programming/blob/main/Exercise%201%20(Types)_%20Your%20First%20Program%20%EC%9D%B4%EC%84%B1%EC%B2%A0%202022189117.ipynb\" target=\"_parent\"><img src=\"https://colab.research.google.com/assets/colab-badge.svg\" alt=\"Open In Colab\"/></a>"
      ]
    },
    {
      "cell_type": "code",
      "execution_count": null,
      "metadata": {
        "colab": {
          "base_uri": "https://localhost:8080/"
        },
        "id": "H7lbdssE75JZ",
        "outputId": "7bc3737d-caa7-442a-e92a-dabd6ba1338a"
      },
      "outputs": [
        {
          "output_type": "stream",
          "name": "stdout",
          "text": [
            "Hello, Python Programming\n",
            "내 이름은 이성철입니다\n",
            "Hello, world!\n",
            "Hello, world!\n"
          ]
        }
      ],
      "source": [
        "# 파이썬 프로그래밍\n",
        "# 이성철 2022189117\n",
        "\n",
        "# Exercise 1 (Types): Your First Program\n",
        "# 류호경 교수님 파트\n",
        "\n",
        "# Try your first Python output\n",
        "print('Hello, Python Programming')\n",
        "print(\"내 이름은 이성철입니다\")\n",
        "print(\"Hello, world!\")\n",
        "print(\"Hello, world!\") # Print the traditional hello world"
      ]
    },
    {
      "cell_type": "code",
      "source": [
        "# Exercise 2 (Types): Get the object type\n",
        "\n",
        "type(12.0) # 12.0의 데이터 타입은? 소수점이 있으므로 float"
      ],
      "metadata": {
        "id": "DapzHGN68i24",
        "colab": {
          "base_uri": "https://localhost:8080/"
        },
        "outputId": "a01d7369-d8a5-47ec-e0d6-f378c1e1fd55"
      },
      "execution_count": null,
      "outputs": [
        {
          "output_type": "execute_result",
          "data": {
            "text/plain": [
              "float"
            ]
          },
          "metadata": {},
          "execution_count": 6
        }
      ]
    },
    {
      "cell_type": "code",
      "source": [
        "# Exercise 3 (Types): Types\n",
        "\n",
        "type(6/2) # 나누기는 float"
      ],
      "metadata": {
        "colab": {
          "base_uri": "https://localhost:8080/"
        },
        "id": "xwwz4aP1I4Rr",
        "outputId": "37aad887-f86c-4fcc-eb7e-b6f0e1393999"
      },
      "execution_count": null,
      "outputs": [
        {
          "output_type": "execute_result",
          "data": {
            "text/plain": [
              "float"
            ]
          },
          "metadata": {},
          "execution_count": 7
        }
      ]
    },
    {
      "cell_type": "code",
      "source": [
        "# //로 나누면 정수(integer)가 됨\n",
        "type(6//2) # int, as the double slashes stand for integer division"
      ],
      "metadata": {
        "colab": {
          "base_uri": "https://localhost:8080/"
        },
        "id": "Ld-ohYC3JAxx",
        "outputId": "bac45303-0b49-4659-9b5d-4aae80a7b576"
      },
      "execution_count": null,
      "outputs": [
        {
          "output_type": "execute_result",
          "data": {
            "text/plain": [
              "int"
            ]
          },
          "metadata": {},
          "execution_count": 12
        }
      ]
    },
    {
      "cell_type": "code",
      "source": [
        "# Exercise 4 (Types): Expression\n",
        "# 160분이 몇시간인가? 60분으로 나누면 됨\n",
        "160/60"
      ],
      "metadata": {
        "colab": {
          "base_uri": "https://localhost:8080/"
        },
        "id": "dfyzi47YJKHT",
        "outputId": "8d6325a9-6e07-4397-d09c-de732f27de8e"
      },
      "execution_count": null,
      "outputs": [
        {
          "output_type": "execute_result",
          "data": {
            "text/plain": [
              "2.6666666666666665"
            ]
          },
          "metadata": {},
          "execution_count": 19
        }
      ]
    },
    {
      "cell_type": "code",
      "source": [
        "# 160분이 몇시간인가? 60분으로 나누면 됨\n",
        "160//60"
      ],
      "metadata": {
        "colab": {
          "base_uri": "https://localhost:8080/"
        },
        "id": "XB1-g7IzJZTd",
        "outputId": "aefbcfca-d071-4013-a5e8-2e48338d5c74"
      },
      "execution_count": null,
      "outputs": [
        {
          "output_type": "execute_result",
          "data": {
            "text/plain": [
              "2"
            ]
          },
          "metadata": {},
          "execution_count": 20
        }
      ]
    },
    {
      "cell_type": "code",
      "source": [
        "# Exercise 5 (Types): Expression and Variables in Python\n",
        "x = 3 + 2 * 2 # 변수 x로 계산\n",
        "x"
      ],
      "metadata": {
        "colab": {
          "base_uri": "https://localhost:8080/"
        },
        "id": "0DJH5C7xJ3Dq",
        "outputId": "6f58fac0-b121-4e57-d0f6-a81c50cf3694"
      },
      "execution_count": null,
      "outputs": [
        {
          "output_type": "execute_result",
          "data": {
            "text/plain": [
              "7"
            ]
          },
          "metadata": {},
          "execution_count": 27
        }
      ]
    },
    {
      "cell_type": "code",
      "source": [
        "y = ( 3 + 2 ) * 2 # 변수 y로 계산\n",
        "y"
      ],
      "metadata": {
        "colab": {
          "base_uri": "https://localhost:8080/"
        },
        "id": "SeVfXk5wKN5p",
        "outputId": "fd074d62-2eaf-4346-f01f-39ee8266309b"
      },
      "execution_count": null,
      "outputs": [
        {
          "output_type": "execute_result",
          "data": {
            "text/plain": [
              "10"
            ]
          },
          "metadata": {},
          "execution_count": 26
        }
      ]
    },
    {
      "cell_type": "code",
      "source": [
        "z = x + y # 변수 z는 x + y\n",
        "z"
      ],
      "metadata": {
        "colab": {
          "base_uri": "https://localhost:8080/"
        },
        "id": "LIIZTPUaKeRw",
        "outputId": "8a2cae83-f4c1-40a4-bd3a-5683e5293a51"
      },
      "execution_count": null,
      "outputs": [
        {
          "output_type": "execute_result",
          "data": {
            "text/plain": [
              "17"
            ]
          },
          "metadata": {},
          "execution_count": 30
        }
      ]
    }
  ]
}