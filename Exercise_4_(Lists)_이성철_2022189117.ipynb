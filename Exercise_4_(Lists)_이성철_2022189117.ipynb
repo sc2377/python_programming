{
  "nbformat": 4,
  "nbformat_minor": 0,
  "metadata": {
    "colab": {
      "provenance": [],
      "authorship_tag": "ABX9TyNJKNZdPsKrrGYMsdJ702Vw",
      "include_colab_link": true
    },
    "kernelspec": {
      "name": "python3",
      "display_name": "Python 3"
    },
    "language_info": {
      "name": "python"
    }
  },
  "cells": [
    {
      "cell_type": "markdown",
      "metadata": {
        "id": "view-in-github",
        "colab_type": "text"
      },
      "source": [
        "<a href=\"https://colab.research.google.com/github/sc2377/python_programming/blob/main/Exercise_4_(Lists)_%EC%9D%B4%EC%84%B1%EC%B2%A0_2022189117.ipynb\" target=\"_parent\"><img src=\"https://colab.research.google.com/assets/colab-badge.svg\" alt=\"Open In Colab\"/></a>"
      ]
    },
    {
      "cell_type": "code",
      "execution_count": null,
      "metadata": {
        "colab": {
          "base_uri": "https://localhost:8080/"
        },
        "id": "girNXiSOXqcV",
        "outputId": "8acf5aad-de81-4726-9157-7390f40c6684"
      },
      "outputs": [
        {
          "output_type": "execute_result",
          "data": {
            "text/plain": [
              "[1, 'hello', [1, 2, 3], True]"
            ]
          },
          "metadata": {},
          "execution_count": 1
        }
      ],
      "source": [
        "# 파이썬 프로그래밍\n",
        "# 이성철 2022189117\n",
        "\n",
        "# Exercise 4 (Lists)\n",
        "# 류호경 교수님 파트\n",
        "\n",
        "# Lists는 Tuples와 똑같으나 값을 바꿀 수 있음\n",
        "\n",
        "a_list = [1, 'hello', [1, 2, 3] , True]\n",
        "a_list"
      ]
    },
    {
      "cell_type": "code",
      "source": [
        "a_list[1] # 1번 인덱스 값 확인"
      ],
      "metadata": {
        "colab": {
          "base_uri": "https://localhost:8080/",
          "height": 35
        },
        "id": "zQzfCsDTYQVY",
        "outputId": "30cf5d07-93c9-4e82-f1aa-fd331e165023"
      },
      "execution_count": null,
      "outputs": [
        {
          "output_type": "execute_result",
          "data": {
            "text/plain": [
              "'hello'"
            ],
            "application/vnd.google.colaboratory.intrinsic+json": {
              "type": "string"
            }
          },
          "metadata": {},
          "execution_count": 6
        }
      ]
    },
    {
      "cell_type": "code",
      "source": [
        "a_list[1:4] # 1~4번 인덱스 값 확인"
      ],
      "metadata": {
        "colab": {
          "base_uri": "https://localhost:8080/"
        },
        "id": "yThgi9cvYeJR",
        "outputId": "5927ca21-5262-4089-8471-8907f3da9151"
      },
      "execution_count": null,
      "outputs": [
        {
          "output_type": "execute_result",
          "data": {
            "text/plain": [
              "['hello', [1, 2, 3], True]"
            ]
          },
          "metadata": {},
          "execution_count": 5
        }
      ]
    },
    {
      "cell_type": "code",
      "source": [
        "A = [1, 'a']  # A Lists 정의\n",
        "B = [2, 1, 'd'] # B Lists 정의\n",
        "A + B # A와 B를 합치기"
      ],
      "metadata": {
        "colab": {
          "base_uri": "https://localhost:8080/"
        },
        "id": "jkAwrN_yYhEO",
        "outputId": "afe7fe79-d89b-468a-93fb-49c0c8777e85"
      },
      "execution_count": null,
      "outputs": [
        {
          "output_type": "execute_result",
          "data": {
            "text/plain": [
              "[1, 'a', 2, 1, 'd']"
            ]
          },
          "metadata": {},
          "execution_count": 10
        }
      ]
    },
    {
      "cell_type": "code",
      "source": [
        "L = [\"Michael Jackson\", 10.1, 1982] # L Lists정의\n",
        "L"
      ],
      "metadata": {
        "colab": {
          "base_uri": "https://localhost:8080/"
        },
        "id": "nk7FxMybYrkj",
        "outputId": "79b89982-ce24-4a6d-8a5d-ecb46f109d3f"
      },
      "execution_count": null,
      "outputs": [
        {
          "output_type": "execute_result",
          "data": {
            "text/plain": [
              "['Michael Jackson', 10.1, 1982]"
            ]
          },
          "metadata": {},
          "execution_count": 12
        }
      ]
    },
    {
      "cell_type": "code",
      "source": [
        "type(L[2])"
      ],
      "metadata": {
        "colab": {
          "base_uri": "https://localhost:8080/"
        },
        "id": "ADoKJxx2ZSw0",
        "outputId": "b47fcc8e-125e-4b75-dacc-8a877d46fb2f"
      },
      "execution_count": null,
      "outputs": [
        {
          "output_type": "execute_result",
          "data": {
            "text/plain": [
              "int"
            ]
          },
          "metadata": {},
          "execution_count": 13
        }
      ]
    },
    {
      "cell_type": "code",
      "source": [
        "print('the same element using negative and positive indexing:\\n Postive:',L[0],\n",
        "'\\n Negative:' , L[-3]  )\n",
        "print('the same element using negative and positive indexing:\\n Postive:',L[1],\n",
        "'\\n Negative:' , L[-2]  )\n",
        "print('the same element using negative and positive indexing:\\n Postive:',L[2],\n",
        "'\\n Negative:' , L[-1]  )"
      ],
      "metadata": {
        "colab": {
          "base_uri": "https://localhost:8080/"
        },
        "id": "J_UVfOyGZVJa",
        "outputId": "dd283d18-17a4-4c74-829d-80fd6078abdb"
      },
      "execution_count": null,
      "outputs": [
        {
          "output_type": "stream",
          "name": "stdout",
          "text": [
            "the same element using negative and positive indexing:\n",
            " Postive: Michael Jackson \n",
            " Negative: Michael Jackson\n",
            "the same element using negative and positive indexing:\n",
            " Postive: 10.1 \n",
            " Negative: 10.1\n",
            "the same element using negative and positive indexing:\n",
            " Postive: 1982 \n",
            " Negative: 1982\n"
          ]
        }
      ]
    },
    {
      "cell_type": "code",
      "source": [
        "#Differnece between List and Tuple is List is mutable (changeable) but not tuple\n",
        "\n",
        "L1 = [\"Michael Jackson\", 10.1, 1982, [1, 2], (\"A\", 1)]\n",
        "print(\"before L1[0] changed\", L1)\n",
        "L1[0] = \"Janet\"\n",
        "print(\"after L1[0] changed\", L1)"
      ],
      "metadata": {
        "colab": {
          "base_uri": "https://localhost:8080/"
        },
        "id": "4MK8iW6nZWwR",
        "outputId": "fabc1bc6-823b-4cd8-99e5-dd133374a489"
      },
      "execution_count": null,
      "outputs": [
        {
          "output_type": "stream",
          "name": "stdout",
          "text": [
            "before L1[0] changed ['Michael Jackson', 10.1, 1982, [1, 2], ('A', 1)]\n",
            "after L1[0] changed ['Janet', 10.1, 1982, [1, 2], ('A', 1)]\n"
          ]
        }
      ]
    },
    {
      "cell_type": "code",
      "source": [
        "Tuple1=(\"Michael Jackson\", 10.1, 1982)\n",
        "Tuple1\n",
        "Tuple1[0]=\"Janet\" # 튜플은 값을 바꿀 수 없음"
      ],
      "metadata": {
        "colab": {
          "base_uri": "https://localhost:8080/",
          "height": 211
        },
        "id": "f0j_aMuxZZWZ",
        "outputId": "2d6130b3-4e83-41cf-8cc9-3b9a52289a39"
      },
      "execution_count": null,
      "outputs": [
        {
          "output_type": "error",
          "ename": "TypeError",
          "evalue": "ignored",
          "traceback": [
            "\u001b[0;31m---------------------------------------------------------------------------\u001b[0m",
            "\u001b[0;31mTypeError\u001b[0m                                 Traceback (most recent call last)",
            "\u001b[0;32m<ipython-input-18-f3de3dbca9bc>\u001b[0m in \u001b[0;36m<module>\u001b[0;34m\u001b[0m\n\u001b[1;32m      1\u001b[0m \u001b[0mTuple1\u001b[0m\u001b[0;34m=\u001b[0m\u001b[0;34m(\u001b[0m\u001b[0;34m\"Michael Jackson\"\u001b[0m\u001b[0;34m,\u001b[0m \u001b[0;36m10.1\u001b[0m\u001b[0;34m,\u001b[0m \u001b[0;36m1982\u001b[0m\u001b[0;34m)\u001b[0m\u001b[0;34m\u001b[0m\u001b[0;34m\u001b[0m\u001b[0m\n\u001b[1;32m      2\u001b[0m \u001b[0mTuple1\u001b[0m\u001b[0;34m\u001b[0m\u001b[0;34m\u001b[0m\u001b[0m\n\u001b[0;32m----> 3\u001b[0;31m \u001b[0mTuple1\u001b[0m\u001b[0;34m[\u001b[0m\u001b[0;36m0\u001b[0m\u001b[0;34m]\u001b[0m\u001b[0;34m=\u001b[0m\u001b[0;34m\"Janet\"\u001b[0m \u001b[0;31m# 튜플은 값을 바꿀 수 없음\u001b[0m\u001b[0;34m\u001b[0m\u001b[0;34m\u001b[0m\u001b[0m\n\u001b[0m",
            "\u001b[0;31mTypeError\u001b[0m: 'tuple' object does not support item assignment"
          ]
        }
      ]
    },
    {
      "cell_type": "code",
      "source": [
        "L = [\"Michael Jackson\", 10.1,1982,\"MJ\",1]\n",
        "L"
      ],
      "metadata": {
        "colab": {
          "base_uri": "https://localhost:8080/"
        },
        "id": "D0tv41AuZ5vE",
        "outputId": "bb4fe48f-212b-45e3-96ed-9bfc8f0627e2"
      },
      "execution_count": null,
      "outputs": [
        {
          "output_type": "execute_result",
          "data": {
            "text/plain": [
              "['Michael Jackson', 10.1, 1982, 'MJ', 1]"
            ]
          },
          "metadata": {},
          "execution_count": 19
        }
      ]
    },
    {
      "cell_type": "code",
      "source": [
        "L[3:5]"
      ],
      "metadata": {
        "colab": {
          "base_uri": "https://localhost:8080/"
        },
        "id": "uvzesAHBaP3u",
        "outputId": "0882e3f0-8ee3-4bfb-ecd9-8ce5e61d000e"
      },
      "execution_count": null,
      "outputs": [
        {
          "output_type": "execute_result",
          "data": {
            "text/plain": [
              "['MJ', 1]"
            ]
          },
          "metadata": {},
          "execution_count": 20
        }
      ]
    },
    {
      "cell_type": "code",
      "source": [
        "L = [ \"Michael Jackson\", 10.2]\n",
        "L.extend(['pop', 10]) #['pop', 10] --> list 확대\n",
        "L"
      ],
      "metadata": {
        "colab": {
          "base_uri": "https://localhost:8080/"
        },
        "id": "RQcSz1zjaRSS",
        "outputId": "fcaf0668-ead8-4454-b30f-743688f4f011"
      },
      "execution_count": null,
      "outputs": [
        {
          "output_type": "execute_result",
          "data": {
            "text/plain": [
              "['Michael Jackson', 10.2, 'pop', 10]"
            ]
          },
          "metadata": {},
          "execution_count": 34
        }
      ]
    },
    {
      "cell_type": "code",
      "source": [
        "L[3]"
      ],
      "metadata": {
        "colab": {
          "base_uri": "https://localhost:8080/"
        },
        "id": "r3pFz6zWbQCw",
        "outputId": "35a8ebfc-92d9-4f20-b684-97af7c5650d9"
      },
      "execution_count": null,
      "outputs": [
        {
          "output_type": "execute_result",
          "data": {
            "text/plain": [
              "10"
            ]
          },
          "metadata": {},
          "execution_count": 37
        }
      ]
    },
    {
      "cell_type": "code",
      "source": [
        "L = [ \"Michael Jackson\", 10.2]\n",
        "L.append(['pop', 10]) #['pop', 10]\n",
        "L"
      ],
      "metadata": {
        "colab": {
          "base_uri": "https://localhost:8080/"
        },
        "id": "5YXqP7boaS2A",
        "outputId": "85a32d67-d9c1-4ca5-899e-4fb7e2f818a6"
      },
      "execution_count": null,
      "outputs": [
        {
          "output_type": "execute_result",
          "data": {
            "text/plain": [
              "['Michael Jackson', 10.2, ['pop', 10]]"
            ]
          },
          "metadata": {},
          "execution_count": 38
        }
      ]
    },
    {
      "cell_type": "code",
      "source": [
        "L[2][0] # 2의 첫 번째"
      ],
      "metadata": {
        "colab": {
          "base_uri": "https://localhost:8080/",
          "height": 35
        },
        "id": "0TITORKUbWiI",
        "outputId": "640d43cd-8a2c-4196-fc2f-96d313752a0b"
      },
      "execution_count": null,
      "outputs": [
        {
          "output_type": "execute_result",
          "data": {
            "text/plain": [
              "'pop'"
            ],
            "application/vnd.google.colaboratory.intrinsic+json": {
              "type": "string"
            }
          },
          "metadata": {},
          "execution_count": 40
        }
      ]
    },
    {
      "cell_type": "code",
      "source": [
        "A = ['Michael Jackson', 10.2, 'pop', 10, ['a', 'b']]\n",
        "print('Before change:', A)\n",
        "del(A[0]) # 지우기\n",
        "print('After change:', A)"
      ],
      "metadata": {
        "colab": {
          "base_uri": "https://localhost:8080/"
        },
        "id": "aTCfuGfYafsJ",
        "outputId": "c45f2bde-d47c-4469-8ff0-592730dcb159"
      },
      "execution_count": null,
      "outputs": [
        {
          "output_type": "stream",
          "name": "stdout",
          "text": [
            "Before change: ['Michael Jackson', 10.2, 'pop', 10, ['a', 'b']]\n",
            "After change: [10.2, 'pop', 10, ['a', 'b']]\n"
          ]
        }
      ]
    },
    {
      "cell_type": "code",
      "source": [
        "A = ['Michael Jackson', 10.2, 'pop', 10]\n",
        "A"
      ],
      "metadata": {
        "colab": {
          "base_uri": "https://localhost:8080/"
        },
        "id": "PlS8SFjCahdf",
        "outputId": "598ccc64-2ecd-4606-87d4-fb071604e6f7"
      },
      "execution_count": null,
      "outputs": [
        {
          "output_type": "execute_result",
          "data": {
            "text/plain": [
              "['Michael Jackson', 10.2, 'pop', 10]"
            ]
          },
          "metadata": {},
          "execution_count": 42
        }
      ]
    },
    {
      "cell_type": "code",
      "source": [
        "# Split the string, default is by space\n",
        "what='hard rock'.split()\n",
        "print(what)\n",
        "type(what)\n",
        "what[1]"
      ],
      "metadata": {
        "colab": {
          "base_uri": "https://localhost:8080/",
          "height": 54
        },
        "id": "-R0fvnETbxUc",
        "outputId": "bf286e44-03ad-4e2f-964c-c3cbda13ea8d"
      },
      "execution_count": null,
      "outputs": [
        {
          "output_type": "stream",
          "name": "stdout",
          "text": [
            "['hard', 'rock']\n"
          ]
        },
        {
          "output_type": "execute_result",
          "data": {
            "text/plain": [
              "'rock'"
            ],
            "application/vnd.google.colaboratory.intrinsic+json": {
              "type": "string"
            }
          },
          "metadata": {},
          "execution_count": 43
        }
      ]
    },
    {
      "cell_type": "code",
      "source": [
        "from re import split\n",
        "# Split the string by comma\n",
        "\n",
        "Split_string_comma='A,B,C,D'.split(',')\n",
        "Split_string_comma\n",
        "type(Split_string_comma)\n",
        "Split_string_comma[0]"
      ],
      "metadata": {
        "colab": {
          "base_uri": "https://localhost:8080/",
          "height": 35
        },
        "id": "T-Aqezn-b0vv",
        "outputId": "834c0d8e-2614-4132-c7ce-5775f750c69b"
      },
      "execution_count": null,
      "outputs": [
        {
          "output_type": "execute_result",
          "data": {
            "text/plain": [
              "'A'"
            ],
            "application/vnd.google.colaboratory.intrinsic+json": {
              "type": "string"
            }
          },
          "metadata": {},
          "execution_count": 44
        }
      ]
    },
    {
      "cell_type": "code",
      "source": [
        "# Copy (copy by reference) the list A\n",
        "\n",
        "A = [\"hard rock\", 10, 1.2]\n",
        "B = A # B = A (같은 곳을 가리킨다 not equal to 같은 값을 두개 따로 가지는 것은 아니다) -->B에게 알려준다.. 너는 인제 A에서 찾아야 해...B = A (assign)\n",
        "\n",
        "\n",
        "A[0] = \"R&B\"\n",
        "\n",
        "print('A:', A) #R&B, 10, 1.2\n",
        "print('B:', B) #'hard rock, 10, 1.2"
      ],
      "metadata": {
        "colab": {
          "base_uri": "https://localhost:8080/"
        },
        "id": "gSYfke6dcHtG",
        "outputId": "ae6fac2e-8017-489f-9be9-9b2e82eddf62"
      },
      "execution_count": null,
      "outputs": [
        {
          "output_type": "stream",
          "name": "stdout",
          "text": [
            "A: ['R&B', 10, 1.2]\n",
            "B: ['R&B', 10, 1.2]\n"
          ]
        }
      ]
    },
    {
      "cell_type": "code",
      "source": [
        "# Examine the copy by reference\n",
        "\n",
        "print('B[0]:', B[0])\n",
        "A[0] = \"banana\"\n",
        "print('B[0]:', B[0])"
      ],
      "metadata": {
        "colab": {
          "base_uri": "https://localhost:8080/"
        },
        "id": "Hae-lIs_cJuy",
        "outputId": "1978af20-bb52-4eef-d1b4-96f75693db39"
      },
      "execution_count": null,
      "outputs": [
        {
          "output_type": "stream",
          "name": "stdout",
          "text": [
            "B[0]: R&B\n",
            "B[0]: banana\n"
          ]
        }
      ]
    },
    {
      "cell_type": "code",
      "source": [
        "# Clone (clone by value) the list A\n",
        "A = [\"hard rock\", 10, 1.2]\n",
        "B = A[:] #A[:]\n",
        "print(A)\n",
        "print(B)\n",
        "A[0] ='R&B'\n",
        "print(A)\n",
        "print(B)\n",
        "#A[0] = \"Banana\"\n",
        "#print(B)\n",
        "#print(A)"
      ],
      "metadata": {
        "colab": {
          "base_uri": "https://localhost:8080/"
        },
        "id": "nQauVv_DcMvk",
        "outputId": "f7bf5576-90d2-4246-fe34-a37782d41716"
      },
      "execution_count": null,
      "outputs": [
        {
          "output_type": "stream",
          "name": "stdout",
          "text": [
            "['hard rock', 10, 1.2]\n",
            "['hard rock', 10, 1.2]\n",
            "['R&B', 10, 1.2]\n",
            "['hard rock', 10, 1.2]\n"
          ]
        }
      ]
    }
  ]
}